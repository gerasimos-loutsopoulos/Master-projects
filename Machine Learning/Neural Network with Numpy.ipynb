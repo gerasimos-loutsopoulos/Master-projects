{
 "cells": [
  {
   "cell_type": "markdown",
   "metadata": {
    "id": "qtWBHOcoqnKH"
   },
   "source": [
    "## 1. Data preprocessing"
   ]
  },
  {
   "cell_type": "code",
   "execution_count": 1,
   "metadata": {
    "id": "VA351vjdly0R"
   },
   "outputs": [],
   "source": [
    "import numpy as np\n",
    "import matplotlib.pyplot as plt\n",
    "from sklearn.datasets import fetch_openml\n",
    "from sklearn.model_selection import train_test_split, RandomizedSearchCV\n",
    "from sklearn.base import BaseEstimator, TransformerMixin\n",
    "from sklearn.pipeline import Pipeline\n",
    "RANDOM_STATE = 12579"
   ]
  },
  {
   "cell_type": "markdown",
   "metadata": {
    "id": "nCm_Zo2W8Q22"
   },
   "source": [
    "The MNIST dataset was constructed from two datasets of the US National Institute\n",
    "of Standards and Technology (NIST). The training dataset consists of handwritten\n",
    "digits from 250 different people, 50 percent high school students and 50 percent\n",
    "employees from the Census Bureau. Note that the test dataset contains handwritten digits from different people following the same split."
   ]
  },
  {
   "cell_type": "markdown",
   "metadata": {
    "id": "aPqJ7jTk7aaG"
   },
   "source": [
    "![alt text](https://dezyre.gumlet.net/images/Exploring+MNIST+Dataset+using+PyTorch+to+Train+an+MLP/MNIST+Dataset.png?w=900&dpr=1.0)"
   ]
  },
  {
   "cell_type": "code",
   "execution_count": 2,
   "metadata": {
    "id": "CmAMpQXwdq4t"
   },
   "outputs": [
    {
     "name": "stderr",
     "output_type": "stream",
     "text": [
      "C:\\Users\\glout\\AppData\\Roaming\\Python\\Python311\\site-packages\\sklearn\\datasets\\_openml.py:1002: FutureWarning: The default value of `parser` will change from `'liac-arff'` to `'auto'` in 1.4. You can set `parser='auto'` to silence this warning. Therefore, an `ImportError` will be raised from 1.4 if the dataset is dense and pandas is not installed. Note that the pandas parser may return different data types. See the Notes Section in fetch_openml's API doc for details.\n",
      "  warn(\n"
     ]
    }
   ],
   "source": [
    "X, y = fetch_openml(\"mnist_784\", version=1, return_X_y=True, as_frame=False)"
   ]
  },
  {
   "cell_type": "markdown",
   "metadata": {
    "id": "UGUngFc88XsU"
   },
   "source": [
    "It has 70,000 different handwriting instances. It usually has 60,000 instances in the training set and the remaining ones in the test set, but scikit-learn loads it as a whole. You may need to divide it into two."
   ]
  },
  {
   "cell_type": "code",
   "execution_count": 3,
   "metadata": {
    "id": "gVuTqRrtlb44"
   },
   "outputs": [
    {
     "data": {
      "text/plain": [
       "((70000, 784), (70000,))"
      ]
     },
     "execution_count": 3,
     "metadata": {},
     "output_type": "execute_result"
    }
   ],
   "source": [
    "X.shape, y.shape"
   ]
  },
  {
   "cell_type": "code",
   "execution_count": 4,
   "metadata": {
    "id": "YNAjbM-Z8ixF"
   },
   "outputs": [
    {
     "data": {
      "text/plain": [
       "<BarContainer object of 10 artists>"
      ]
     },
     "execution_count": 4,
     "metadata": {},
     "output_type": "execute_result"
    },
    {
     "data": {
      "image/png": "[encoded data removed]",
      "text/plain": [
       "<Figure size 640x480 with 1 Axes>"
      ]
     },
     "metadata": {},
     "output_type": "display_data"
    }
   ],
   "source": [
    "plt.bar(np.unique(y, return_counts = True)[0], np.unique(y, return_counts = True)[1])"
   ]
  },
  {
   "cell_type": "code",
   "execution_count": 5,
   "metadata": {
    "id": "GzXvdYtlmNqi"
   },
   "outputs": [],
   "source": [
    "X_normalized = X / 255.0"
   ]
  },
  {
   "cell_type": "code",
   "execution_count": 6,
   "metadata": {
    "id": "vfx0EL0wmoyU"
   },
   "outputs": [],
   "source": [
    "y_integer = y.astype(int)"
   ]
  },
  {
   "cell_type": "code",
   "execution_count": 7,
   "metadata": {
    "id": "SiERfT0gddu1"
   },
   "outputs": [],
   "source": [
    "X_train, X_test, y_train, y_test = train_test_split(X_normalized, y_integer, test_size = 0.2, stratify = y_integer,shuffle= True, random_state = RANDOM_STATE)"
   ]
  },
  {
   "cell_type": "code",
   "execution_count": 8,
   "metadata": {
    "id": "1mujB3I56rjw"
   },
   "outputs": [
    {
     "data": {
      "text/plain": [
       "(0.13095012531798408, 0.30847760515635225)"
      ]
     },
     "execution_count": 8,
     "metadata": {},
     "output_type": "execute_result"
    }
   ],
   "source": [
    "X_train.mean(), X_train.std()"
   ]
  },
  {
   "cell_type": "markdown",
   "metadata": {
    "id": "EMldZza-faxL"
   },
   "source": [
    "Here you can check some of the instances that you get."
   ]
  },
  {
   "cell_type": "code",
   "execution_count": 9,
   "metadata": {
    "colab": {
     "base_uri": "https://localhost:8080/",
     "height": 224
    },
    "id": "TzRs98dodeAF",
    "outputId": "3a6fd962-3567-4616-e2c3-6e6116da3583"
   },
   "outputs": [
    {
     "data": {
      "image/png": "[encoded data removed]",
      "text/plain": [
       "<Figure size 640x480 with 10 Axes>"
      ]
     },
     "metadata": {},
     "output_type": "display_data"
    }
   ],
   "source": [
    "fig, ax = plt.subplots(nrows=2, ncols=5, sharex=True, sharey=True)\n",
    "ax = ax.flatten()\n",
    "for i in range(10):\n",
    "  img = X_train[y_train == i][0].reshape(28, 28)\n",
    "  ax[i].imshow(img, cmap='Greys')\n",
    "ax[0].set_xticks([])\n",
    "ax[0].set_yticks([])\n",
    "plt.tight_layout()\n",
    "plt.show()"
   ]
  },
  {
   "cell_type": "markdown",
   "metadata": {
    "id": "baT1IBRFqrBJ"
   },
   "source": [
    "## 2. Helper functions"
   ]
  },
  {
   "cell_type": "code",
   "execution_count": 10,
   "metadata": {
    "id": "msvnKGsR0yUS"
   },
   "outputs": [],
   "source": [
    "def one_hot(y):\n",
    "  \"\"\"\n",
    "  Input:\n",
    "    - y : set of labels\n",
    "\n",
    "  Output:\n",
    "    - onehot: a one-hot-encoded array\n",
    "\n",
    "  This function creates an one-hot encoded representation of the labels.\n",
    "  This means that you will have a set of binary columns indicading each possible class.\n",
    "\n",
    "  You have to develop this one hot encoding strategy without using Python for loop\n",
    "\n",
    "  Expected outcome:\n",
    "    one_hot(np.array([1,0,2,3]))\n",
    "\n",
    "    array([[0., 1., 0., 0.],\n",
    "          [1., 0., 0., 0.],\n",
    "          [0., 0., 1., 0.],\n",
    "          [0., 0., 0., 1.]])\n",
    "  \"\"\"\n",
    "  one_hot = np.zeros((y.size, y.max()+1))\n",
    "  one_hot[np.arange(y.size), y] = 1\n",
    "  return one_hot\n"
   ]
  },
  {
   "cell_type": "code",
   "execution_count": 11,
   "metadata": {
    "id": "sGFbZ_tN00WK"
   },
   "outputs": [
    {
     "data": {
      "text/plain": [
       "array([[0., 1., 0., 0.],\n",
       "       [1., 0., 0., 0.],\n",
       "       [0., 0., 1., 0.],\n",
       "       [0., 0., 0., 1.]])"
      ]
     },
     "execution_count": 11,
     "metadata": {},
     "output_type": "execute_result"
    }
   ],
   "source": [
    "one_hot(np.array([1,0,2,3]))"
   ]
  },
  {
   "cell_type": "code",
   "execution_count": 12,
   "metadata": {
    "id": "hFSCiidT1Drz"
   },
   "outputs": [],
   "source": [
    "def sigmoid(x):\n",
    "  \"\"\"\n",
    "  Input:\n",
    "    - z: input vector or scalar value\n",
    "\n",
    "  Output:\n",
    "    - sigmoid: output sigmoid-transformed vector or scalar value\n",
    "\n",
    "  Calculate the sigmoid value of the input.\n",
    "\n",
    "  Expected outcome:\n",
    "    sigmoid(np.array([np.inf, -np.inf, 0]))\n",
    "\n",
    "    array([1. , 0. , 0.5])\n",
    "  \"\"\"\n",
    "  sigmoid = 1 / (1 + np.exp(-x))\n",
    "  \n",
    "  return sigmoid"
   ]
  },
  {
   "cell_type": "markdown",
   "metadata": {
    "id": "Xlugwi8r0O-H"
   },
   "source": [
    "Test your code here (see the expected outcome above)."
   ]
  },
  {
   "cell_type": "code",
   "execution_count": 13,
   "metadata": {
    "id": "3fJNnW22qMQ0"
   },
   "outputs": [
    {
     "data": {
      "text/plain": [
       "array([1. , 0. , 0.5])"
      ]
     },
     "execution_count": 13,
     "metadata": {},
     "output_type": "execute_result"
    }
   ],
   "source": [
    "sigmoid(np.array([np.inf, -np.inf, 0]))"
   ]
  },
  {
   "cell_type": "markdown",
   "metadata": {
    "id": "dnfdCK6Fqtls"
   },
   "source": [
    "## 3. Our FCN classifier with the class structure"
   ]
  },
  {
   "cell_type": "code",
   "execution_count": null,
   "metadata": {
    "id": "UxEdUv9hmiTd"
   },
   "outputs": [],
   "source": [
    "class FullyConnectedNetwork(BaseEstimator, TransformerMixin):\n",
    "    def __init__(self, n_hidden=30, l2=0., l1=0., epochs=100, eta=0.001, validation_rate = 0.3,\n",
    "                 shuffle=True, batch_size=1, init_technique = \"normal\", seed=None, debug=True):\n",
    "\n",
    "        \"\"\"\n",
    "        The class structure receive the following parameters to construct and test the model:\n",
    "\n",
    "        Input:\n",
    "          - n_hidden: Number of hidden nodes.\n",
    "          - l2: Lambda value for L2-regularization.\n",
    "          - l1: Lambda value for L1-regularization.\n",
    "          - epochs: Number of passes over the training set.\n",
    "          - eta: Learning rate.\n",
    "          - validation_rate: size of the validation set.\n",
    "          - shuffle: Enabling shuffling option of the dataset every epoch.\n",
    "          - batch_size: Number of training examples per batch.\n",
    "          - init_technique: Indicator for an initialization technique.\n",
    "          - seed: Random seed for initializing weights and shuffling.\n",
    "        \"\"\"\n",
    "        self.seed = seed\n",
    "\n",
    "        # DEFINE YOUR RANDOM NUMBER GENERATOR USING THE INPUT SEED\n",
    "        # WARNING! It is strictly required to use \"np.random.default_rng\" to generate random numbers.\n",
    "        self.random = np.random.default_rng(self.seed) \n",
    "\n",
    "        self.n_hidden = n_hidden\n",
    "        self.l2 = l2\n",
    "        self.l1 = l1\n",
    "        self.epochs = epochs\n",
    "        self.eta = eta\n",
    "        self.validation_rate = validation_rate\n",
    "        self.shuffle = shuffle\n",
    "        self.batch_size = batch_size\n",
    "        self.debug = debug\n",
    "        self.init_technique = init_technique\n",
    "\n",
    "    def compile(self, n_features, n_outputs):\n",
    "        \"\"\"\n",
    "        Initializing the weights of the model\n",
    "\n",
    "        - Here you will initialize bias and weights based on chosen initialization technique.\n",
    "        - The classifier has three different options: normal, xavier, and he\n",
    "        - Each technique initializes the weight using the normal distribution but different standard deviation.\n",
    "        - Use self.init_technique to check the chosen technique and use self.random to perform the sampling.\n",
    "\n",
    "        Input:\n",
    "          - n_features: input size of the network\n",
    "          - n_outputs: output size of the network\n",
    "          - Unit size of the layer is given as self.n_hidden\n",
    "\n",
    "        Steps:\n",
    "          1. Check if you have created self.random using NumPy's random number generator.\n",
    "             You will use this generator throughout this function.\n",
    "          2. Create lists self.W and self.B which will keep the weight values for each layer.\n",
    "          3. Set mean and standard deviation for different initialization technique.\n",
    "          4. Create weights and bias for the linkage between inputs and the first layer.\n",
    "            - Weight should have the size [n_features, self.n_hidden].\n",
    "            - Bias should have the size [self.n_hidden].\n",
    "            - Weight initialization should be applied to the weights only.\n",
    "            - Bias should be initizalied by zeros.\n",
    "          5. Create weights and bias for the linkage between the first layer and the output layer.\n",
    "            - Weight should have the size [self.n_hidden, n_outputs].\n",
    "            - Bias should have the size [n_outputs].\n",
    "            - Weight initialization should be applied to the weights only.\n",
    "            - Bias should be initizalied by zeros.\n",
    "          5. Save the weights to self.W and biases to self.B. Each list should have two elements for each layer.\n",
    "\n",
    "          WARNING! It is strictly required to use \"np.random.default_rng\" to generate random numbers.\n",
    "        \"\"\"\n",
    "        if self.random is None:\n",
    "            raise ValueError(\"self.random has not generate numbers  using np.random.default_rng \")\n",
    "\n",
    "        self.B = []\n",
    "        self.W = []\n",
    "        \n",
    "        std = None\n",
    "        \n",
    "        if self.init_technique == \"normal\":\n",
    "            std = 0.1\n",
    "        elif self.init_technique == \"xavier\":\n",
    "            std = np.sqrt(2 / (n_features + self.n_hidden))\n",
    "        elif self.init_technique == \"he\":\n",
    "            std = np.sqrt(2 / n_features)\n",
    "        else:\n",
    "            raise ValueError(\"Invalid initialization technique\")\n",
    "\n",
    "        # 1. Creating weights and bias for [input -> hidden]\n",
    "        # Use specific initialization techniques for weights\n",
    "        # Weights should have the size (n_features, self.n_hidden)\n",
    "        # Use np.zeros for bias with the size 'self.n_hidden'\n",
    "\n",
    "        b_h = np.zeros(self.n_hidden)\n",
    "        w_h = self.random.normal(0, std, (n_features, self.n_hidden))\n",
    "\n",
    "        # 2. Append bias to self.B and weights to self.W\n",
    "        \n",
    "        \n",
    "        self.B.append(b_h)\n",
    "        self.W.append(w_h)\n",
    "\n",
    "        # 3. Creating weights and bias for [hidden -> output]\n",
    "        # Use specific initialization techniques for weights\n",
    "        # Weights should have the size (self.n_hidden, n_outputs)\n",
    "        # Use np.zeros for bias with the size 'n_outputs'\n",
    "\n",
    "        b_out = np.zeros(n_outputs)\n",
    "        w_out = self.random.normal(0, std, (self.n_hidden, n_outputs))\n",
    "\n",
    "        # 4. Append bias to self.B and weights to self.W\n",
    "        \n",
    "        self.B.append(b_out)\n",
    "        self.W.append(w_out)\n",
    "\n",
    "\n",
    "    def forward(self, X):\n",
    "        \"\"\"\n",
    "        Given the dataset X, compute forward propagation step with the weights and bias saved in the list.\n",
    "        This process eventually outputs ten numbers in our case as the dataset has ten outputs.\n",
    "        (Please refer to the lecture slides for detailed computation process)\n",
    "        Forward propagation is performed by multiple chained dot products of inputs and weights.\n",
    "\n",
    "        Input:\n",
    "          - X: features\n",
    "\n",
    "        Output:\n",
    "          - Z: Result of dot product of the weights and the previous output for each phase\n",
    "          - A: A list that contains sigmoided values of A\n",
    "        Steps:\n",
    "          1. Create two lists Z and A.\n",
    "          2. Take a dot product of X and the first weight self.W[0] - save the result into Z\n",
    "          3. Apply sigmoid function to the first Z - save the result into A\n",
    "          4. Take a dot product of A and the second weight self.W[1] - save the result into Z\n",
    "          5. Apply sigmoid function to the second Z - save the result into A\n",
    "          6. Return Z and A\n",
    "\n",
    "        WARNING! Be careful when you multiply two matrices - think about which rows you are multiplying.\n",
    "                 Wrong order in .dot() function can lead completely wrong result.\n",
    "        \"\"\"\n",
    "        Z = []\n",
    "        A = []\n",
    "\n",
    "        # Step 1: net input of hidden layer\n",
    "        # - You are calculating the first XW+b.\n",
    "        # - Take a dot product of the input features and the initial weights.\n",
    "        # - Add the outcome to list Z.\n",
    "        \n",
    "        z1 = np.dot(X, self.W[0]) + self.B[0]\n",
    "        Z.append(z1)\n",
    "\n",
    "        # Step 2: activation of hidden layer\n",
    "        # - Apply the sigmoid function to the dot producted outcome.\n",
    "        # - Add the outcome to list A.\n",
    "        \n",
    "        a1 = sigmoid(z1)\n",
    "        A.append(a1)\n",
    "\n",
    "        # Step 3: net input of output layer\n",
    "        # - You are calculating the second XW+b.\n",
    "        # - Take a dot product of the intermediate features and the weights of the output layer.\n",
    "        # - Add the outcome to list Z.\n",
    "        \n",
    "        z2 = np.dot(a1, self.W[1]) + self.B[1]\n",
    "        Z.append(z2)\n",
    "\n",
    "        # Step 4: activation output layer\n",
    "        # - Apply the sigmoid function to the dot producted outcome.\n",
    "        # - For simplicity, here the network uses sigmoid instead of softmax.\n",
    "        # - Add the outcome to list A.\n",
    "        \n",
    "        a2 = sigmoid(z2)\n",
    "        A.append(a2)\n",
    "\n",
    "        return Z, A\n",
    "\n",
    "    def predict(self, X):\n",
    "        \"\"\"\n",
    "\n",
    "        Predict class labels by performing forward propagation.\n",
    "\n",
    "        Input:\n",
    "          - X: Feature matrix.\n",
    "        Output:\n",
    "          - y_pred: Predicted class labels for all data instances.\n",
    "\n",
    "        Steps:\n",
    "          1. Run forward proparation on X and get Z, a.\n",
    "          2. Calculate y_pred by using the final output (A[-1]) and with np.argmax\n",
    "            - You have to choose the index of the one with the highest value, which means the highest probability.\n",
    "          3. Return the prediction. You SHOULD perform the operation using NumPy's vectorization feature.\n",
    "             This means that if you put many instances at once as an input, this function should calculate the result also at once.\n",
    "\n",
    "        \"\"\"\n",
    "        Z, A = self.forward(X)\n",
    "        y_pred = np.argmax(A[-1], axis=1) \n",
    "        return y_pred\n",
    "\n",
    "        \n",
    "\n",
    "    def cost(self, y_truth, y_pred):\n",
    "        \"\"\"\n",
    "\n",
    "        This function computes the cost for the classification task.\n",
    "        The network supports Elastic net (combination of l1 and l2 with corresponding weights).\n",
    "\n",
    "        Input:\n",
    "          - y_truth: \"One-hot encoded\" class labels.\n",
    "          - y_pred: Activation of the output layer (= output of the forward propagation function).\n",
    "          - The weights for l1 and l2 are saved into self.l1 and self.l2.\n",
    "\n",
    "        Output:\n",
    "          - cost: Regularized cost\n",
    "\n",
    "        Steps:\n",
    "          1. Calculate the cross entropy between the truth (y) and predicted values (y*).\n",
    "             - y * log(y*) - (1 - y) * log(1 - y*)\n",
    "          2. Add l1 and l2 terms to the cost.\n",
    "            - L1 term is the sum of absolute weight values.\n",
    "            - L2 term is the sum of squared weight values.\n",
    "            - You should multiply l1 and l2 ratio saved in self.l1 and self.l2 (this will decide the degree of regularization).\n",
    "            - You should NOT include weights that belong to the bias values.\n",
    "          3. Return the total cost (cross entropy + L1 term + L2 term).\n",
    "\n",
    "        \"\"\"\n",
    "        crossentropy = np.sum(-y_truth * np.log(y_pred) - (1 - y_truth) * np.log(1 - y_pred))\n",
    "        \n",
    "        l1= self.l1 * (np.sum(np.abs(self.W[0])) + np.sum(np.abs(self.W[1])))\n",
    "        \n",
    "        l2= self.l2 * (np.sum(self.W[0]**2) + np.sum(self.W[1]**2))\n",
    "        \n",
    "        cost = crossentropy + l1 + l2\n",
    "        \n",
    "        return cost\n",
    "\n",
    "\n",
    "\n",
    "    def back_propagation(self, X_train, batch_idx, A, y_truth):\n",
    "      \"\"\"\n",
    "      Perform back propagation based on the result of forward propagation and true labels (for each batch).\n",
    "\n",
    "      Input:\n",
    "        X_train: Training features.\n",
    "        batch_idx: The current batch indices from the fit function.\n",
    "        A: Sigmoided output values - the result of forward propagation.\n",
    "        y_truth: One-hot encoded true labels.\n",
    "\n",
    "      Output:\n",
    "        None\n",
    "        You should update the weights and biases in self.W/self.B\n",
    "\n",
    "      **** You only need to fill in some required parts marked as \"CHANGE THIS PART\" ****\n",
    "      **** To get more information about the backpropagation process:\n",
    "           https://towardsdatascience.com/deriving-backpropagation-with-cross-entropy-loss-d24811edeaf9 ****\n",
    "      \"\"\"\n",
    "\n",
    "      # OUTPUT WEIGHTS (LAYER-OUTPUT)\n",
    "\n",
    "      # δC/δA * δA/δZ\n",
    "      delta_out = A[-1] - y_truth[batch_idx]\n",
    "      # δC/δA * δA/δZ * δZ/δW\n",
    "      grad_w_out = np.dot(A[0].T, delta_out)\n",
    "      # δC/δA * δA/δZ * δZ/δB\n",
    "      grad_b_out = np.sum(delta_out, axis=0)\n",
    "\n",
    "      #############################################\n",
    "      # CHANGE THIS PART\n",
    "\n",
    "      # Using the final gradients of the weight and bias (grad_w_out, grad_b_out), the network needs to update its current weight values.\n",
    "      # The gradient of w and b are already calculated and all you need to do is to merge it with l1/l2 terms.\n",
    "      # Change the values of self.W[1], self.B[1] (output weight and bias).\n",
    "      # - You should also apply l1 and l2 normalization to the weight (not to the bias).\n",
    "      # - You should use the learning rate (self.eta) when changing the value.\n",
    "\n",
    "      delta_w_out = grad_w_out + self.l2 * self.W[1] + self.l1 * np.sign(self.W[1])\n",
    "      \n",
    "      delta_b_out = grad_b_out\n",
    "      self.W[1] = self.W[1] - self.eta * delta_w_out\n",
    "      self.B[1] = self.B[1] - self.eta * delta_b_out\n",
    "\n",
    "     \n",
    "\n",
    "      sigmoid_derivative_h = A[0] * (1 - A[0])\n",
    "\n",
    "\n",
    "      delta_h = (np.dot(delta_out, self.W[1].T) * sigmoid_derivative_h)\n",
    "      grad_w_h = np.dot(X_train[batch_idx].T, delta_h)\n",
    "      grad_b_h = np.sum(delta_h, axis=0)\n",
    "\n",
    "      \n",
    "\n",
    "      delta_w_h = grad_w_h + self.l2 * self.W[0] + self.l1 * np.sign(self.W[0])\n",
    "      delta_b_h = grad_b_h\n",
    "\n",
    "      self.W[0] = self.W[0] - self.eta * delta_w_h\n",
    "      self.B[0] = self.B[0] - self.eta * delta_b_h\n",
    "\n",
    "      \n",
    "\n",
    "\n",
    "    def evaluate(self, epoch, X_train, X_valid, y_train, y_valid):\n",
    "      \"\"\"\n",
    "      Evaluate performances on the training and validation sets per epoch\n",
    "\n",
    "      Input:\n",
    "        - epoch: Current epoch number.\n",
    "        - X_train: Training features\n",
    "        - X_valid: Validation features\n",
    "        - y_train: Training labels\n",
    "        - y_valid: Validation labels\n",
    "\n",
    "      Output:\n",
    "        - None\n",
    "        Append the cost and performance metrics of current epoch to self.history\n",
    "      \"\"\"\n",
    "\n",
    "      \n",
    "      Z, A = self.forward(X_train)\n",
    "\n",
    "      \n",
    "      y_train_pred = self.predict(X_train)\n",
    "      y_valid_pred = self.predict(X_valid)\n",
    "\n",
    "      \n",
    "      cost = self.cost(one_hot(y_train), A[-1])\n",
    "\n",
    "      \n",
    "      train_acc = np.sum(y_train == y_train_pred) / y_train.shape[0]\n",
    "      valid_acc = np.sum(y_valid == y_valid_pred) / y_valid.shape[0]\n",
    "\n",
    "     \n",
    "      if self.debug == True:\n",
    "        print('%d/%d | Cost: %.2f '\n",
    "                        '| Train/Valid Acc.: %.2f%%/%.2f%% ' %\n",
    "                        (epoch+1, self.epochs, cost,\n",
    "                          train_acc*100, valid_acc*100))\n",
    "\n",
    "      self.history['cost'].append(cost)\n",
    "      self.history['train_acc'].append(train_acc)\n",
    "      self.history['valid_acc'].append(valid_acc)\n",
    "\n",
    "\n",
    "    def fit(self, X, y):\n",
    "        \"\"\"\n",
    "\n",
    "        Learn weights from training data.\n",
    "\n",
    "        Input\n",
    "          - X: features (training+validation)\n",
    "          - y: labels\n",
    "\n",
    "        Output\n",
    "          - self.history: information about cost and accuracy scores\n",
    "\n",
    "        \"\"\"\n",
    "\n",
    "        self.history = {'cost': [], 'train_acc': [], 'valid_acc': []}\n",
    "\n",
    "        \n",
    "        X_train, X_valid, y_train, y_valid = train_test_split(X, y, test_size = self.validation_rate, stratify = y, random_state = self.seed)\n",
    "\n",
    "        \n",
    "        self.compile(X_train.shape[1], len(np.unique(y_train)))\n",
    "\n",
    "\n",
    "\n",
    "       \n",
    "        y_train_enc = one_hot(y_train)\n",
    "\n",
    "       \n",
    "        for i in range(self.epochs):\n",
    "\n",
    "            \n",
    "            indices = np.arange(X_train.shape[0])\n",
    "            if self.shuffle is True:\n",
    "                indices = self.random.permutation(indices)\n",
    "\n",
    "           \n",
    "            for start_idx in range(0, indices.shape[0] - self.batch_size +\n",
    "                                   1, self.batch_size):\n",
    "                batch_idx = indices[start_idx:start_idx + self.batch_size]\n",
    "\n",
    "                #  forward propagation\n",
    "                Z, A = self.forward(X_train[batch_idx])\n",
    "                \n",
    "                \n",
    "                self.back_propagation(X_train, batch_idx, A, y_train_enc)\n",
    "\n",
    "\n",
    "                \n",
    "\n",
    "         \n",
    "            \n",
    "            self.evaluate(i, X_train, X_valid, y_train, y_valid)\n",
    "\n",
    "\n",
    "\n",
    "            #\n",
    "\n",
    "        # Step 9: After all loops are complete, return self.history\n",
    "        return self.history\n",
    "\n",
    "    def transform(self, X, y=None):\n",
    "      \"\"\"\n",
    "      Do not need to complete this function.\n",
    "      Leave as it is!\n",
    "      \"\"\"\n",
    "      return self.history\n",
    "\n",
    "    def score(self, X, y=None):\n",
    "      \"\"\"\n",
    "      Score function for pipeline\n",
    "      Leave as it is!\n",
    "      \"\"\"\n",
    "      y_pred = self.predict(X)\n",
    "      acc = np.sum(y == y_pred) / X.shape[0]\n",
    "      return acc"
   ]
  },
  {
   "cell_type": "code",
   "execution_count": 15,
   "metadata": {
    "id": "pEkq3fydrmVw"
   },
   "outputs": [],
   "source": [
    "nn = FullyConnectedNetwork(n_hidden=150, l2=0.01,  epochs=30, eta=0.001,  batch_size=50, shuffle=True, seed=RANDOM_STATE )"
   ]
  },
  {
   "cell_type": "code",
   "execution_count": 16,
   "metadata": {
    "id": "uSKfzn3czNrU"
   },
   "outputs": [
    {
     "name": "stdout",
     "output_type": "stream",
     "text": [
      "1/30 | Cost: 46918.97 | Train/Valid Acc.: 85.45%/85.24% \n",
      "2/30 | Cost: 35539.51 | Train/Valid Acc.: 87.94%/87.42% \n",
      "3/30 | Cost: 30905.29 | Train/Valid Acc.: 89.54%/89.02% \n",
      "4/30 | Cost: 28285.33 | Train/Valid Acc.: 90.03%/89.45% \n",
      "5/30 | Cost: 26462.60 | Train/Valid Acc.: 90.61%/90.02% \n",
      "6/30 | Cost: 24963.20 | Train/Valid Acc.: 91.18%/90.52% \n",
      "7/30 | Cost: 23753.55 | Train/Valid Acc.: 91.65%/90.98% \n",
      "8/30 | Cost: 22830.97 | Train/Valid Acc.: 91.98%/91.50% \n",
      "9/30 | Cost: 21953.75 | Train/Valid Acc.: 92.26%/91.74% \n",
      "10/30 | Cost: 21168.74 | Train/Valid Acc.: 92.46%/92.11% \n",
      "11/30 | Cost: 20390.12 | Train/Valid Acc.: 92.85%/92.38% \n",
      "12/30 | Cost: 19730.54 | Train/Valid Acc.: 93.01%/92.52% \n",
      "13/30 | Cost: 19232.82 | Train/Valid Acc.: 93.15%/92.60% \n",
      "14/30 | Cost: 18497.69 | Train/Valid Acc.: 93.53%/92.95% \n",
      "15/30 | Cost: 17979.49 | Train/Valid Acc.: 93.74%/93.22% \n",
      "16/30 | Cost: 17528.59 | Train/Valid Acc.: 93.86%/93.32% \n",
      "17/30 | Cost: 17042.17 | Train/Valid Acc.: 94.10%/93.39% \n",
      "18/30 | Cost: 16699.37 | Train/Valid Acc.: 94.17%/93.64% \n",
      "19/30 | Cost: 16206.31 | Train/Valid Acc.: 94.40%/93.87% \n",
      "20/30 | Cost: 15832.04 | Train/Valid Acc.: 94.56%/93.95% \n",
      "21/30 | Cost: 15511.23 | Train/Valid Acc.: 94.79%/94.09% \n",
      "22/30 | Cost: 15173.89 | Train/Valid Acc.: 94.90%/94.10% \n",
      "23/30 | Cost: 14868.91 | Train/Valid Acc.: 94.99%/94.21% \n",
      "24/30 | Cost: 14592.18 | Train/Valid Acc.: 95.14%/94.42% \n",
      "25/30 | Cost: 14346.43 | Train/Valid Acc.: 95.14%/94.43% \n",
      "26/30 | Cost: 13967.77 | Train/Valid Acc.: 95.27%/94.49% \n",
      "27/30 | Cost: 13791.90 | Train/Valid Acc.: 95.36%/94.57% \n",
      "28/30 | Cost: 13489.49 | Train/Valid Acc.: 95.43%/94.61% \n",
      "29/30 | Cost: 13257.52 | Train/Valid Acc.: 95.54%/94.77% \n",
      "30/30 | Cost: 13051.98 | Train/Valid Acc.: 95.62%/94.77% \n"
     ]
    }
   ],
   "source": [
    "history = nn.fit(X_train, y_train)"
   ]
  },
  {
   "cell_type": "code",
   "execution_count": 17,
   "metadata": {
    "id": "n79B9p-OzPIA"
   },
   "outputs": [
    {
     "data": {
      "image/png": "[encoded data removed]",
      "text/plain": [
       "<Figure size 640x480 with 1 Axes>"
      ]
     },
     "metadata": {},
     "output_type": "display_data"
    }
   ],
   "source": [
    "plt.plot(history['train_acc'])\n",
    "plt.plot(history['valid_acc'])\n",
    "plt.show()"
   ]
  },
  {
   "cell_type": "markdown",
   "metadata": {
    "id": "rPA_LeMzqyFc"
   },
   "source": [
    "## 4.  classifier into the scikit-learn pipeline and the randomized search"
   ]
  },
  {
   "cell_type": "code",
   "execution_count": null,
   "metadata": {
    "id": "7KQyD1cf1Na8"
   },
   "outputs": [
    {
     "name": "stdout",
     "output_type": "stream",
     "text": [
      "1/10 | Cost: 68093.00 | Train/Valid Acc.: 78.48%/78.30% \n",
      "2/10 | Cost: 45431.18 | Train/Valid Acc.: 85.43%/85.15% \n",
      "3/10 | Cost: 35822.13 | Train/Valid Acc.: 88.48%/88.35% \n",
      "4/10 | Cost: 30981.30 | Train/Valid Acc.: 89.39%/89.16% \n",
      "5/10 | Cost: 27910.90 | Train/Valid Acc.: 90.12%/90.05% \n",
      "6/10 | Cost: 25830.12 | Train/Valid Acc.: 90.73%/90.69% \n",
      "7/10 | Cost: 24397.28 | Train/Valid Acc.: 91.11%/90.93% \n",
      "8/10 | Cost: 23284.08 | Train/Valid Acc.: 91.40%/91.18% \n",
      "9/10 | Cost: 22416.05 | Train/Valid Acc.: 91.62%/91.61% \n",
      "10/10 | Cost: 21451.83 | Train/Valid Acc.: 92.01%/91.85% \n"
     ]
    },
    {
     "data": {
      "text/html": [
       "<style>#sk-container-id-1 {color: black;}#sk-container-id-1 pre{padding: 0;}#sk-container-id-1 div.sk-toggleable {background-color: white;}#sk-container-id-1 label.sk-toggleable__label {cursor: pointer;display: block;width: 100%;margin-bottom: 0;padding: 0.3em;box-sizing: border-box;text-align: center;}#sk-container-id-1 label.sk-toggleable__label-arrow:before {content: \"▸\";float: left;margin-right: 0.25em;color: #696969;}#sk-container-id-1 label.sk-toggleable__label-arrow:hover:before {color: black;}#sk-container-id-1 div.sk-estimator:hover label.sk-toggleable__label-arrow:before {color: black;}#sk-container-id-1 div.sk-toggleable__content {max-height: 0;max-width: 0;overflow: hidden;text-align: left;background-color: #f0f8ff;}#sk-container-id-1 div.sk-toggleable__content pre {margin: 0.2em;color: black;border-radius: 0.25em;background-color: #f0f8ff;}#sk-container-id-1 input.sk-toggleable__control:checked~div.sk-toggleable__content {max-height: 200px;max-width: 100%;overflow: auto;}#sk-container-id-1 input.sk-toggleable__control:checked~label.sk-toggleable__label-arrow:before {content: \"▾\";}#sk-container-id-1 div.sk-estimator input.sk-toggleable__control:checked~label.sk-toggleable__label {background-color: #d4ebff;}#sk-container-id-1 div.sk-label input.sk-toggleable__control:checked~label.sk-toggleable__label {background-color: #d4ebff;}#sk-container-id-1 input.sk-hidden--visually {border: 0;clip: rect(1px 1px 1px 1px);clip: rect(1px, 1px, 1px, 1px);height: 1px;margin: -1px;overflow: hidden;padding: 0;position: absolute;width: 1px;}#sk-container-id-1 div.sk-estimator {font-family: monospace;background-color: #f0f8ff;border: 1px dotted black;border-radius: 0.25em;box-sizing: border-box;margin-bottom: 0.5em;}#sk-container-id-1 div.sk-estimator:hover {background-color: #d4ebff;}#sk-container-id-1 div.sk-parallel-item::after {content: \"\";width: 100%;border-bottom: 1px solid gray;flex-grow: 1;}#sk-container-id-1 div.sk-label:hover label.sk-toggleable__label {background-color: #d4ebff;}#sk-container-id-1 div.sk-serial::before {content: \"\";position: absolute;border-left: 1px solid gray;box-sizing: border-box;top: 0;bottom: 0;left: 50%;z-index: 0;}#sk-container-id-1 div.sk-serial {display: flex;flex-direction: column;align-items: center;background-color: white;padding-right: 0.2em;padding-left: 0.2em;position: relative;}#sk-container-id-1 div.sk-item {position: relative;z-index: 1;}#sk-container-id-1 div.sk-parallel {display: flex;align-items: stretch;justify-content: center;background-color: white;position: relative;}#sk-container-id-1 div.sk-item::before, #sk-container-id-1 div.sk-parallel-item::before {content: \"\";position: absolute;border-left: 1px solid gray;box-sizing: border-box;top: 0;bottom: 0;left: 50%;z-index: -1;}#sk-container-id-1 div.sk-parallel-item {display: flex;flex-direction: column;z-index: 1;position: relative;background-color: white;}#sk-container-id-1 div.sk-parallel-item:first-child::after {align-self: flex-end;width: 50%;}#sk-container-id-1 div.sk-parallel-item:last-child::after {align-self: flex-start;width: 50%;}#sk-container-id-1 div.sk-parallel-item:only-child::after {width: 0;}#sk-container-id-1 div.sk-dashed-wrapped {border: 1px dashed gray;margin: 0 0.4em 0.5em 0.4em;box-sizing: border-box;padding-bottom: 0.4em;background-color: white;}#sk-container-id-1 div.sk-label label {font-family: monospace;font-weight: bold;display: inline-block;line-height: 1.2em;}#sk-container-id-1 div.sk-label-container {text-align: center;}#sk-container-id-1 div.sk-container {/* jupyter's `normalize.less` sets `[hidden] { display: none; }` but bootstrap.min.css set `[hidden] { display: none !important; }` so we also need the `!important` here to be able to override the default hidden behavior on the sphinx rendered scikit-learn.org. See: https://github.com/scikit-learn/scikit-learn/issues/21755 */display: inline-block !important;position: relative;}#sk-container-id-1 div.sk-text-repr-fallback {display: none;}</style><div id=\"sk-container-id-1\" class=\"sk-top-container\"><div class=\"sk-text-repr-fallback\"><pre>Pipeline(steps=[(&#x27;normalizer&#x27;, Normalizer()),\n",
       "                (&#x27;classifier&#x27;, FullyConnectedNetwork(epochs=10))])</pre><b>In a Jupyter environment, please rerun this cell to show the HTML representation or trust the notebook. <br />On GitHub, the HTML representation is unable to render, please try loading this page with nbviewer.org.</b></div><div class=\"sk-container\" hidden><div class=\"sk-item sk-dashed-wrapped\"><div class=\"sk-label-container\"><div class=\"sk-label sk-toggleable\"><input class=\"sk-toggleable__control sk-hidden--visually\" id=\"sk-estimator-id-1\" type=\"checkbox\" ><label for=\"sk-estimator-id-1\" class=\"sk-toggleable__label sk-toggleable__label-arrow\">Pipeline</label><div class=\"sk-toggleable__content\"><pre>Pipeline(steps=[(&#x27;normalizer&#x27;, Normalizer()),\n",
       "                (&#x27;classifier&#x27;, FullyConnectedNetwork(epochs=10))])</pre></div></div></div><div class=\"sk-serial\"><div class=\"sk-item\"><div class=\"sk-estimator sk-toggleable\"><input class=\"sk-toggleable__control sk-hidden--visually\" id=\"sk-estimator-id-2\" type=\"checkbox\" ><label for=\"sk-estimator-id-2\" class=\"sk-toggleable__label sk-toggleable__label-arrow\">Normalizer</label><div class=\"sk-toggleable__content\"><pre>Normalizer()</pre></div></div></div><div class=\"sk-item\"><div class=\"sk-estimator sk-toggleable\"><input class=\"sk-toggleable__control sk-hidden--visually\" id=\"sk-estimator-id-3\" type=\"checkbox\" ><label for=\"sk-estimator-id-3\" class=\"sk-toggleable__label sk-toggleable__label-arrow\">FullyConnectedNetwork</label><div class=\"sk-toggleable__content\"><pre>FullyConnectedNetwork(epochs=10)</pre></div></div></div></div></div></div></div>"
      ],
      "text/plain": [
       "Pipeline(steps=[('normalizer', Normalizer()),\n",
       "                ('classifier', FullyConnectedNetwork(epochs=10))])"
      ]
     },
     "execution_count": 18,
     "metadata": {},
     "output_type": "execute_result"
    }
   ],
   "source": [
    "\n",
    "class Normalizer(BaseEstimator, TransformerMixin):\n",
    "    def __init__(self):\n",
    "        pass\n",
    "\n",
    "    def fit(self, X, y=None):\n",
    "        return self\n",
    "\n",
    "    def transform(self, X, y=None ):\n",
    "        X_normalized = X / 255 - 0.5\n",
    "        return X_normalized\n",
    "    \n",
    "pipeline = Pipeline([\n",
    "    (\"normalizer\", Normalizer()),\n",
    "    (\"classifier\", FullyConnectedNetwork(epochs=10)),\n",
    "])  \n",
    "\n",
    "\n",
    "X_train, X_test, y_train, y_test = train_test_split(X, y_integer, test_size=0.2, stratify=y_integer,shuffle= True, random_state=RANDOM_STATE)\n",
    "\n",
    "pipeline.fit(X_train, y_train)"
   ]
  },
  {
   "cell_type": "code",
   "execution_count": 19,
   "metadata": {
    "id": "tQRQASa5bz89"
   },
   "outputs": [],
   "source": [
    "pipeline_score = pipeline.score(X_test, y_test)"
   ]
  },
  {
   "cell_type": "code",
   "execution_count": null,
   "metadata": {
    "id": "Lcykfo9x6zY8"
   },
   "outputs": [
    {
     "name": "stdout",
     "output_type": "stream",
     "text": [
      "0.917\n"
     ]
    }
   ],
   "source": [
    "\n",
    "print(pipeline_score)"
   ]
  },
  {
   "cell_type": "code",
   "execution_count": 21,
   "metadata": {
    "id": "rysn4lmhmpBb"
   },
   "outputs": [
    {
     "name": "stdout",
     "output_type": "stream",
     "text": [
      "1/10 | Cost: 62170.52 | Train/Valid Acc.: 72.07%/71.84% \n",
      "2/10 | Cost: 49909.66 | Train/Valid Acc.: 76.16%/76.48% \n",
      "3/10 | Cost: 45245.34 | Train/Valid Acc.: 78.06%/78.47% \n",
      "4/10 | Cost: 43213.00 | Train/Valid Acc.: 81.71%/81.93% \n",
      "5/10 | Cost: 41988.49 | Train/Valid Acc.: 80.18%/80.79% \n",
      "6/10 | Cost: 41075.08 | Train/Valid Acc.: 81.32%/81.62% \n",
      "7/10 | Cost: 40261.38 | Train/Valid Acc.: 82.85%/82.81% \n",
      "8/10 | Cost: 39258.72 | Train/Valid Acc.: 83.09%/83.33% \n",
      "9/10 | Cost: 38413.48 | Train/Valid Acc.: 82.15%/82.67% \n",
      "10/10 | Cost: 37652.20 | Train/Valid Acc.: 83.87%/84.41% \n",
      "1/10 | Cost: 60540.08 | Train/Valid Acc.: 68.95%/69.28% \n",
      "2/10 | Cost: 49259.98 | Train/Valid Acc.: 77.24%/77.88% \n",
      "3/10 | Cost: 44976.88 | Train/Valid Acc.: 79.52%/79.71% \n",
      "4/10 | Cost: 43039.12 | Train/Valid Acc.: 81.49%/81.96% \n",
      "5/10 | Cost: 41901.14 | Train/Valid Acc.: 80.91%/81.37% \n",
      "6/10 | Cost: 40885.94 | Train/Valid Acc.: 82.48%/82.84% \n",
      "7/10 | Cost: 39869.27 | Train/Valid Acc.: 82.75%/83.24% \n",
      "8/10 | Cost: 39016.40 | Train/Valid Acc.: 82.75%/83.22% \n",
      "9/10 | Cost: 38147.37 | Train/Valid Acc.: 83.58%/84.10% \n",
      "10/10 | Cost: 37387.97 | Train/Valid Acc.: 83.91%/84.45% \n",
      "1/10 | Cost: 61139.17 | Train/Valid Acc.: 70.80%/70.59% \n"
     ]
    },
    {
     "ename": "KeyboardInterrupt",
     "evalue": "",
     "output_type": "error",
     "traceback": [
      "\u001b[1;31m---------------------------------------------------------------------------\u001b[0m",
      "\u001b[1;31mKeyboardInterrupt\u001b[0m                         Traceback (most recent call last)",
      "Cell \u001b[1;32mIn[21], line 10\u001b[0m\n\u001b[0;32m      1\u001b[0m parameters \u001b[38;5;241m=\u001b[39m {\u001b[38;5;124m\"\u001b[39m\u001b[38;5;124mclassifier__l1\u001b[39m\u001b[38;5;124m\"\u001b[39m : np\u001b[38;5;241m.\u001b[39marange(\u001b[38;5;241m0\u001b[39m,\u001b[38;5;241m0.01\u001b[39m \u001b[38;5;241m+\u001b[39m \u001b[38;5;241m0.002\u001b[39m, \u001b[38;5;241m0.002\u001b[39m),\n\u001b[0;32m      2\u001b[0m               \u001b[38;5;124m\"\u001b[39m\u001b[38;5;124mclassifier__l2\u001b[39m\u001b[38;5;124m\"\u001b[39m : np\u001b[38;5;241m.\u001b[39marange(\u001b[38;5;241m0\u001b[39m,\u001b[38;5;241m0.01\u001b[39m \u001b[38;5;241m+\u001b[39m \u001b[38;5;241m0.002\u001b[39m, \u001b[38;5;241m0.002\u001b[39m),\n\u001b[0;32m      3\u001b[0m               \u001b[38;5;124m\"\u001b[39m\u001b[38;5;124mclassifier__n_hidden\u001b[39m\u001b[38;5;124m\"\u001b[39m :  np\u001b[38;5;241m.\u001b[39marange(\u001b[38;5;241m20\u001b[39m, \u001b[38;5;241m100\u001b[39m, \u001b[38;5;241m10\u001b[39m),\n\u001b[0;32m      4\u001b[0m               \u001b[38;5;124m\"\u001b[39m\u001b[38;5;124mclassifier__eta\u001b[39m\u001b[38;5;124m\"\u001b[39m : np\u001b[38;5;241m.\u001b[39marange(\u001b[38;5;241m0.0001\u001b[39m, \u001b[38;5;241m0.001\u001b[39m, \u001b[38;5;241m0.0001\u001b[39m),\n\u001b[0;32m      5\u001b[0m               \u001b[38;5;124m\"\u001b[39m\u001b[38;5;124mclassifier__init_technique\u001b[39m\u001b[38;5;124m\"\u001b[39m : [\u001b[38;5;124m\"\u001b[39m\u001b[38;5;124mnormal\u001b[39m\u001b[38;5;124m\"\u001b[39m, \u001b[38;5;124m\"\u001b[39m\u001b[38;5;124mxavier\u001b[39m\u001b[38;5;124m\"\u001b[39m, \u001b[38;5;124m\"\u001b[39m\u001b[38;5;124mhe\u001b[39m\u001b[38;5;124m\"\u001b[39m]}\n\u001b[0;32m      9\u001b[0m grid \u001b[38;5;241m=\u001b[39m RandomizedSearchCV(pipeline, parameters, n_iter\u001b[38;5;241m=\u001b[39m \u001b[38;5;241m10\u001b[39m ,cv\u001b[38;5;241m=\u001b[39m\u001b[38;5;241m3\u001b[39m, random_state\u001b[38;5;241m=\u001b[39mRANDOM_STATE)\n\u001b[1;32m---> 10\u001b[0m \u001b[43mgrid\u001b[49m\u001b[38;5;241;43m.\u001b[39;49m\u001b[43mfit\u001b[49m\u001b[43m(\u001b[49m\u001b[43mX_train\u001b[49m\u001b[43m,\u001b[49m\u001b[43m \u001b[49m\u001b[43my_train\u001b[49m\u001b[43m)\u001b[49m\n\u001b[0;32m     13\u001b[0m best_classifier \u001b[38;5;241m=\u001b[39m grid\u001b[38;5;241m.\u001b[39mbest_estimator_ \n\u001b[0;32m     14\u001b[0m best_score \u001b[38;5;241m=\u001b[39m best_classifier\u001b[38;5;241m.\u001b[39mscore(X_test, y_test)\n",
      "File \u001b[1;32m~\\AppData\\Roaming\\Python\\Python311\\site-packages\\sklearn\\base.py:1151\u001b[0m, in \u001b[0;36m_fit_context.<locals>.decorator.<locals>.wrapper\u001b[1;34m(estimator, *args, **kwargs)\u001b[0m\n\u001b[0;32m   1144\u001b[0m     estimator\u001b[38;5;241m.\u001b[39m_validate_params()\n\u001b[0;32m   1146\u001b[0m \u001b[38;5;28;01mwith\u001b[39;00m config_context(\n\u001b[0;32m   1147\u001b[0m     skip_parameter_validation\u001b[38;5;241m=\u001b[39m(\n\u001b[0;32m   1148\u001b[0m         prefer_skip_nested_validation \u001b[38;5;129;01mor\u001b[39;00m global_skip_validation\n\u001b[0;32m   1149\u001b[0m     )\n\u001b[0;32m   1150\u001b[0m ):\n\u001b[1;32m-> 1151\u001b[0m     \u001b[38;5;28;01mreturn\u001b[39;00m \u001b[43mfit_method\u001b[49m\u001b[43m(\u001b[49m\u001b[43mestimator\u001b[49m\u001b[43m,\u001b[49m\u001b[43m \u001b[49m\u001b[38;5;241;43m*\u001b[39;49m\u001b[43margs\u001b[49m\u001b[43m,\u001b[49m\u001b[43m \u001b[49m\u001b[38;5;241;43m*\u001b[39;49m\u001b[38;5;241;43m*\u001b[39;49m\u001b[43mkwargs\u001b[49m\u001b[43m)\u001b[49m\n",
      "File \u001b[1;32m~\\AppData\\Roaming\\Python\\Python311\\site-packages\\sklearn\\model_selection\\_search.py:898\u001b[0m, in \u001b[0;36mBaseSearchCV.fit\u001b[1;34m(self, X, y, groups, **fit_params)\u001b[0m\n\u001b[0;32m    892\u001b[0m     results \u001b[38;5;241m=\u001b[39m \u001b[38;5;28mself\u001b[39m\u001b[38;5;241m.\u001b[39m_format_results(\n\u001b[0;32m    893\u001b[0m         all_candidate_params, n_splits, all_out, all_more_results\n\u001b[0;32m    894\u001b[0m     )\n\u001b[0;32m    896\u001b[0m     \u001b[38;5;28;01mreturn\u001b[39;00m results\n\u001b[1;32m--> 898\u001b[0m \u001b[38;5;28;43mself\u001b[39;49m\u001b[38;5;241;43m.\u001b[39;49m\u001b[43m_run_search\u001b[49m\u001b[43m(\u001b[49m\u001b[43mevaluate_candidates\u001b[49m\u001b[43m)\u001b[49m\n\u001b[0;32m    900\u001b[0m \u001b[38;5;66;03m# multimetric is determined here because in the case of a callable\u001b[39;00m\n\u001b[0;32m    901\u001b[0m \u001b[38;5;66;03m# self.scoring the return type is only known after calling\u001b[39;00m\n\u001b[0;32m    902\u001b[0m first_test_score \u001b[38;5;241m=\u001b[39m all_out[\u001b[38;5;241m0\u001b[39m][\u001b[38;5;124m\"\u001b[39m\u001b[38;5;124mtest_scores\u001b[39m\u001b[38;5;124m\"\u001b[39m]\n",
      "File \u001b[1;32m~\\AppData\\Roaming\\Python\\Python311\\site-packages\\sklearn\\model_selection\\_search.py:1806\u001b[0m, in \u001b[0;36mRandomizedSearchCV._run_search\u001b[1;34m(self, evaluate_candidates)\u001b[0m\n\u001b[0;32m   1804\u001b[0m \u001b[38;5;28;01mdef\u001b[39;00m \u001b[38;5;21m_run_search\u001b[39m(\u001b[38;5;28mself\u001b[39m, evaluate_candidates):\n\u001b[0;32m   1805\u001b[0m \u001b[38;5;250m    \u001b[39m\u001b[38;5;124;03m\"\"\"Search n_iter candidates from param_distributions\"\"\"\u001b[39;00m\n\u001b[1;32m-> 1806\u001b[0m     \u001b[43mevaluate_candidates\u001b[49m\u001b[43m(\u001b[49m\n\u001b[0;32m   1807\u001b[0m \u001b[43m        \u001b[49m\u001b[43mParameterSampler\u001b[49m\u001b[43m(\u001b[49m\n\u001b[0;32m   1808\u001b[0m \u001b[43m            \u001b[49m\u001b[38;5;28;43mself\u001b[39;49m\u001b[38;5;241;43m.\u001b[39;49m\u001b[43mparam_distributions\u001b[49m\u001b[43m,\u001b[49m\u001b[43m \u001b[49m\u001b[38;5;28;43mself\u001b[39;49m\u001b[38;5;241;43m.\u001b[39;49m\u001b[43mn_iter\u001b[49m\u001b[43m,\u001b[49m\u001b[43m \u001b[49m\u001b[43mrandom_state\u001b[49m\u001b[38;5;241;43m=\u001b[39;49m\u001b[38;5;28;43mself\u001b[39;49m\u001b[38;5;241;43m.\u001b[39;49m\u001b[43mrandom_state\u001b[49m\n\u001b[0;32m   1809\u001b[0m \u001b[43m        \u001b[49m\u001b[43m)\u001b[49m\n\u001b[0;32m   1810\u001b[0m \u001b[43m    \u001b[49m\u001b[43m)\u001b[49m\n",
      "File \u001b[1;32m~\\AppData\\Roaming\\Python\\Python311\\site-packages\\sklearn\\model_selection\\_search.py:845\u001b[0m, in \u001b[0;36mBaseSearchCV.fit.<locals>.evaluate_candidates\u001b[1;34m(candidate_params, cv, more_results)\u001b[0m\n\u001b[0;32m    837\u001b[0m \u001b[38;5;28;01mif\u001b[39;00m \u001b[38;5;28mself\u001b[39m\u001b[38;5;241m.\u001b[39mverbose \u001b[38;5;241m>\u001b[39m \u001b[38;5;241m0\u001b[39m:\n\u001b[0;32m    838\u001b[0m     \u001b[38;5;28mprint\u001b[39m(\n\u001b[0;32m    839\u001b[0m         \u001b[38;5;124m\"\u001b[39m\u001b[38;5;124mFitting \u001b[39m\u001b[38;5;132;01m{0}\u001b[39;00m\u001b[38;5;124m folds for each of \u001b[39m\u001b[38;5;132;01m{1}\u001b[39;00m\u001b[38;5;124m candidates,\u001b[39m\u001b[38;5;124m\"\u001b[39m\n\u001b[0;32m    840\u001b[0m         \u001b[38;5;124m\"\u001b[39m\u001b[38;5;124m totalling \u001b[39m\u001b[38;5;132;01m{2}\u001b[39;00m\u001b[38;5;124m fits\u001b[39m\u001b[38;5;124m\"\u001b[39m\u001b[38;5;241m.\u001b[39mformat(\n\u001b[0;32m    841\u001b[0m             n_splits, n_candidates, n_candidates \u001b[38;5;241m*\u001b[39m n_splits\n\u001b[0;32m    842\u001b[0m         )\n\u001b[0;32m    843\u001b[0m     )\n\u001b[1;32m--> 845\u001b[0m out \u001b[38;5;241m=\u001b[39m \u001b[43mparallel\u001b[49m\u001b[43m(\u001b[49m\n\u001b[0;32m    846\u001b[0m \u001b[43m    \u001b[49m\u001b[43mdelayed\u001b[49m\u001b[43m(\u001b[49m\u001b[43m_fit_and_score\u001b[49m\u001b[43m)\u001b[49m\u001b[43m(\u001b[49m\n\u001b[0;32m    847\u001b[0m \u001b[43m        \u001b[49m\u001b[43mclone\u001b[49m\u001b[43m(\u001b[49m\u001b[43mbase_estimator\u001b[49m\u001b[43m)\u001b[49m\u001b[43m,\u001b[49m\n\u001b[0;32m    848\u001b[0m \u001b[43m        \u001b[49m\u001b[43mX\u001b[49m\u001b[43m,\u001b[49m\n\u001b[0;32m    849\u001b[0m \u001b[43m        \u001b[49m\u001b[43my\u001b[49m\u001b[43m,\u001b[49m\n\u001b[0;32m    850\u001b[0m \u001b[43m        \u001b[49m\u001b[43mtrain\u001b[49m\u001b[38;5;241;43m=\u001b[39;49m\u001b[43mtrain\u001b[49m\u001b[43m,\u001b[49m\n\u001b[0;32m    851\u001b[0m \u001b[43m        \u001b[49m\u001b[43mtest\u001b[49m\u001b[38;5;241;43m=\u001b[39;49m\u001b[43mtest\u001b[49m\u001b[43m,\u001b[49m\n\u001b[0;32m    852\u001b[0m \u001b[43m        \u001b[49m\u001b[43mparameters\u001b[49m\u001b[38;5;241;43m=\u001b[39;49m\u001b[43mparameters\u001b[49m\u001b[43m,\u001b[49m\n\u001b[0;32m    853\u001b[0m \u001b[43m        \u001b[49m\u001b[43msplit_progress\u001b[49m\u001b[38;5;241;43m=\u001b[39;49m\u001b[43m(\u001b[49m\u001b[43msplit_idx\u001b[49m\u001b[43m,\u001b[49m\u001b[43m \u001b[49m\u001b[43mn_splits\u001b[49m\u001b[43m)\u001b[49m\u001b[43m,\u001b[49m\n\u001b[0;32m    854\u001b[0m \u001b[43m        \u001b[49m\u001b[43mcandidate_progress\u001b[49m\u001b[38;5;241;43m=\u001b[39;49m\u001b[43m(\u001b[49m\u001b[43mcand_idx\u001b[49m\u001b[43m,\u001b[49m\u001b[43m \u001b[49m\u001b[43mn_candidates\u001b[49m\u001b[43m)\u001b[49m\u001b[43m,\u001b[49m\n\u001b[0;32m    855\u001b[0m \u001b[43m        \u001b[49m\u001b[38;5;241;43m*\u001b[39;49m\u001b[38;5;241;43m*\u001b[39;49m\u001b[43mfit_and_score_kwargs\u001b[49m\u001b[43m,\u001b[49m\n\u001b[0;32m    856\u001b[0m \u001b[43m    \u001b[49m\u001b[43m)\u001b[49m\n\u001b[0;32m    857\u001b[0m \u001b[43m    \u001b[49m\u001b[38;5;28;43;01mfor\u001b[39;49;00m\u001b[43m \u001b[49m\u001b[43m(\u001b[49m\u001b[43mcand_idx\u001b[49m\u001b[43m,\u001b[49m\u001b[43m \u001b[49m\u001b[43mparameters\u001b[49m\u001b[43m)\u001b[49m\u001b[43m,\u001b[49m\u001b[43m \u001b[49m\u001b[43m(\u001b[49m\u001b[43msplit_idx\u001b[49m\u001b[43m,\u001b[49m\u001b[43m \u001b[49m\u001b[43m(\u001b[49m\u001b[43mtrain\u001b[49m\u001b[43m,\u001b[49m\u001b[43m \u001b[49m\u001b[43mtest\u001b[49m\u001b[43m)\u001b[49m\u001b[43m)\u001b[49m\u001b[43m \u001b[49m\u001b[38;5;129;43;01min\u001b[39;49;00m\u001b[43m \u001b[49m\u001b[43mproduct\u001b[49m\u001b[43m(\u001b[49m\n\u001b[0;32m    858\u001b[0m \u001b[43m        \u001b[49m\u001b[38;5;28;43menumerate\u001b[39;49m\u001b[43m(\u001b[49m\u001b[43mcandidate_params\u001b[49m\u001b[43m)\u001b[49m\u001b[43m,\u001b[49m\u001b[43m \u001b[49m\u001b[38;5;28;43menumerate\u001b[39;49m\u001b[43m(\u001b[49m\u001b[43mcv\u001b[49m\u001b[38;5;241;43m.\u001b[39;49m\u001b[43msplit\u001b[49m\u001b[43m(\u001b[49m\u001b[43mX\u001b[49m\u001b[43m,\u001b[49m\u001b[43m \u001b[49m\u001b[43my\u001b[49m\u001b[43m,\u001b[49m\u001b[43m \u001b[49m\u001b[43mgroups\u001b[49m\u001b[43m)\u001b[49m\u001b[43m)\u001b[49m\n\u001b[0;32m    859\u001b[0m \u001b[43m    \u001b[49m\u001b[43m)\u001b[49m\n\u001b[0;32m    860\u001b[0m \u001b[43m\u001b[49m\u001b[43m)\u001b[49m\n\u001b[0;32m    862\u001b[0m \u001b[38;5;28;01mif\u001b[39;00m \u001b[38;5;28mlen\u001b[39m(out) \u001b[38;5;241m<\u001b[39m \u001b[38;5;241m1\u001b[39m:\n\u001b[0;32m    863\u001b[0m     \u001b[38;5;28;01mraise\u001b[39;00m \u001b[38;5;167;01mValueError\u001b[39;00m(\n\u001b[0;32m    864\u001b[0m         \u001b[38;5;124m\"\u001b[39m\u001b[38;5;124mNo fits were performed. \u001b[39m\u001b[38;5;124m\"\u001b[39m\n\u001b[0;32m    865\u001b[0m         \u001b[38;5;124m\"\u001b[39m\u001b[38;5;124mWas the CV iterator empty? \u001b[39m\u001b[38;5;124m\"\u001b[39m\n\u001b[0;32m    866\u001b[0m         \u001b[38;5;124m\"\u001b[39m\u001b[38;5;124mWere there no candidates?\u001b[39m\u001b[38;5;124m\"\u001b[39m\n\u001b[0;32m    867\u001b[0m     )\n",
      "File \u001b[1;32m~\\AppData\\Roaming\\Python\\Python311\\site-packages\\sklearn\\utils\\parallel.py:65\u001b[0m, in \u001b[0;36mParallel.__call__\u001b[1;34m(self, iterable)\u001b[0m\n\u001b[0;32m     60\u001b[0m config \u001b[38;5;241m=\u001b[39m get_config()\n\u001b[0;32m     61\u001b[0m iterable_with_config \u001b[38;5;241m=\u001b[39m (\n\u001b[0;32m     62\u001b[0m     (_with_config(delayed_func, config), args, kwargs)\n\u001b[0;32m     63\u001b[0m     \u001b[38;5;28;01mfor\u001b[39;00m delayed_func, args, kwargs \u001b[38;5;129;01min\u001b[39;00m iterable\n\u001b[0;32m     64\u001b[0m )\n\u001b[1;32m---> 65\u001b[0m \u001b[38;5;28;01mreturn\u001b[39;00m \u001b[38;5;28;43msuper\u001b[39;49m\u001b[43m(\u001b[49m\u001b[43m)\u001b[49m\u001b[38;5;241;43m.\u001b[39;49m\u001b[38;5;21;43m__call__\u001b[39;49m\u001b[43m(\u001b[49m\u001b[43miterable_with_config\u001b[49m\u001b[43m)\u001b[49m\n",
      "File \u001b[1;32m~\\AppData\\Roaming\\Python\\Python311\\site-packages\\joblib\\parallel.py:1863\u001b[0m, in \u001b[0;36mParallel.__call__\u001b[1;34m(self, iterable)\u001b[0m\n\u001b[0;32m   1861\u001b[0m     output \u001b[38;5;241m=\u001b[39m \u001b[38;5;28mself\u001b[39m\u001b[38;5;241m.\u001b[39m_get_sequential_output(iterable)\n\u001b[0;32m   1862\u001b[0m     \u001b[38;5;28mnext\u001b[39m(output)\n\u001b[1;32m-> 1863\u001b[0m     \u001b[38;5;28;01mreturn\u001b[39;00m output \u001b[38;5;28;01mif\u001b[39;00m \u001b[38;5;28mself\u001b[39m\u001b[38;5;241m.\u001b[39mreturn_generator \u001b[38;5;28;01melse\u001b[39;00m \u001b[38;5;28;43mlist\u001b[39;49m\u001b[43m(\u001b[49m\u001b[43moutput\u001b[49m\u001b[43m)\u001b[49m\n\u001b[0;32m   1865\u001b[0m \u001b[38;5;66;03m# Let's create an ID that uniquely identifies the current call. If the\u001b[39;00m\n\u001b[0;32m   1866\u001b[0m \u001b[38;5;66;03m# call is interrupted early and that the same instance is immediately\u001b[39;00m\n\u001b[0;32m   1867\u001b[0m \u001b[38;5;66;03m# re-used, this id will be used to prevent workers that were\u001b[39;00m\n\u001b[0;32m   1868\u001b[0m \u001b[38;5;66;03m# concurrently finalizing a task from the previous call to run the\u001b[39;00m\n\u001b[0;32m   1869\u001b[0m \u001b[38;5;66;03m# callback.\u001b[39;00m\n\u001b[0;32m   1870\u001b[0m \u001b[38;5;28;01mwith\u001b[39;00m \u001b[38;5;28mself\u001b[39m\u001b[38;5;241m.\u001b[39m_lock:\n",
      "File \u001b[1;32m~\\AppData\\Roaming\\Python\\Python311\\site-packages\\joblib\\parallel.py:1792\u001b[0m, in \u001b[0;36mParallel._get_sequential_output\u001b[1;34m(self, iterable)\u001b[0m\n\u001b[0;32m   1790\u001b[0m \u001b[38;5;28mself\u001b[39m\u001b[38;5;241m.\u001b[39mn_dispatched_batches \u001b[38;5;241m+\u001b[39m\u001b[38;5;241m=\u001b[39m \u001b[38;5;241m1\u001b[39m\n\u001b[0;32m   1791\u001b[0m \u001b[38;5;28mself\u001b[39m\u001b[38;5;241m.\u001b[39mn_dispatched_tasks \u001b[38;5;241m+\u001b[39m\u001b[38;5;241m=\u001b[39m \u001b[38;5;241m1\u001b[39m\n\u001b[1;32m-> 1792\u001b[0m res \u001b[38;5;241m=\u001b[39m \u001b[43mfunc\u001b[49m\u001b[43m(\u001b[49m\u001b[38;5;241;43m*\u001b[39;49m\u001b[43margs\u001b[49m\u001b[43m,\u001b[49m\u001b[43m \u001b[49m\u001b[38;5;241;43m*\u001b[39;49m\u001b[38;5;241;43m*\u001b[39;49m\u001b[43mkwargs\u001b[49m\u001b[43m)\u001b[49m\n\u001b[0;32m   1793\u001b[0m \u001b[38;5;28mself\u001b[39m\u001b[38;5;241m.\u001b[39mn_completed_tasks \u001b[38;5;241m+\u001b[39m\u001b[38;5;241m=\u001b[39m \u001b[38;5;241m1\u001b[39m\n\u001b[0;32m   1794\u001b[0m \u001b[38;5;28mself\u001b[39m\u001b[38;5;241m.\u001b[39mprint_progress()\n",
      "File \u001b[1;32m~\\AppData\\Roaming\\Python\\Python311\\site-packages\\sklearn\\utils\\parallel.py:127\u001b[0m, in \u001b[0;36m_FuncWrapper.__call__\u001b[1;34m(self, *args, **kwargs)\u001b[0m\n\u001b[0;32m    125\u001b[0m     config \u001b[38;5;241m=\u001b[39m {}\n\u001b[0;32m    126\u001b[0m \u001b[38;5;28;01mwith\u001b[39;00m config_context(\u001b[38;5;241m*\u001b[39m\u001b[38;5;241m*\u001b[39mconfig):\n\u001b[1;32m--> 127\u001b[0m     \u001b[38;5;28;01mreturn\u001b[39;00m \u001b[38;5;28;43mself\u001b[39;49m\u001b[38;5;241;43m.\u001b[39;49m\u001b[43mfunction\u001b[49m\u001b[43m(\u001b[49m\u001b[38;5;241;43m*\u001b[39;49m\u001b[43margs\u001b[49m\u001b[43m,\u001b[49m\u001b[43m \u001b[49m\u001b[38;5;241;43m*\u001b[39;49m\u001b[38;5;241;43m*\u001b[39;49m\u001b[43mkwargs\u001b[49m\u001b[43m)\u001b[49m\n",
      "File \u001b[1;32m~\\AppData\\Roaming\\Python\\Python311\\site-packages\\sklearn\\model_selection\\_validation.py:732\u001b[0m, in \u001b[0;36m_fit_and_score\u001b[1;34m(estimator, X, y, scorer, train, test, verbose, parameters, fit_params, return_train_score, return_parameters, return_n_test_samples, return_times, return_estimator, split_progress, candidate_progress, error_score)\u001b[0m\n\u001b[0;32m    730\u001b[0m         estimator\u001b[38;5;241m.\u001b[39mfit(X_train, \u001b[38;5;241m*\u001b[39m\u001b[38;5;241m*\u001b[39mfit_params)\n\u001b[0;32m    731\u001b[0m     \u001b[38;5;28;01melse\u001b[39;00m:\n\u001b[1;32m--> 732\u001b[0m         \u001b[43mestimator\u001b[49m\u001b[38;5;241;43m.\u001b[39;49m\u001b[43mfit\u001b[49m\u001b[43m(\u001b[49m\u001b[43mX_train\u001b[49m\u001b[43m,\u001b[49m\u001b[43m \u001b[49m\u001b[43my_train\u001b[49m\u001b[43m,\u001b[49m\u001b[43m \u001b[49m\u001b[38;5;241;43m*\u001b[39;49m\u001b[38;5;241;43m*\u001b[39;49m\u001b[43mfit_params\u001b[49m\u001b[43m)\u001b[49m\n\u001b[0;32m    734\u001b[0m \u001b[38;5;28;01mexcept\u001b[39;00m \u001b[38;5;167;01mException\u001b[39;00m:\n\u001b[0;32m    735\u001b[0m     \u001b[38;5;66;03m# Note fit time as time until error\u001b[39;00m\n\u001b[0;32m    736\u001b[0m     fit_time \u001b[38;5;241m=\u001b[39m time\u001b[38;5;241m.\u001b[39mtime() \u001b[38;5;241m-\u001b[39m start_time\n",
      "File \u001b[1;32m~\\AppData\\Roaming\\Python\\Python311\\site-packages\\sklearn\\base.py:1151\u001b[0m, in \u001b[0;36m_fit_context.<locals>.decorator.<locals>.wrapper\u001b[1;34m(estimator, *args, **kwargs)\u001b[0m\n\u001b[0;32m   1144\u001b[0m     estimator\u001b[38;5;241m.\u001b[39m_validate_params()\n\u001b[0;32m   1146\u001b[0m \u001b[38;5;28;01mwith\u001b[39;00m config_context(\n\u001b[0;32m   1147\u001b[0m     skip_parameter_validation\u001b[38;5;241m=\u001b[39m(\n\u001b[0;32m   1148\u001b[0m         prefer_skip_nested_validation \u001b[38;5;129;01mor\u001b[39;00m global_skip_validation\n\u001b[0;32m   1149\u001b[0m     )\n\u001b[0;32m   1150\u001b[0m ):\n\u001b[1;32m-> 1151\u001b[0m     \u001b[38;5;28;01mreturn\u001b[39;00m \u001b[43mfit_method\u001b[49m\u001b[43m(\u001b[49m\u001b[43mestimator\u001b[49m\u001b[43m,\u001b[49m\u001b[43m \u001b[49m\u001b[38;5;241;43m*\u001b[39;49m\u001b[43margs\u001b[49m\u001b[43m,\u001b[49m\u001b[43m \u001b[49m\u001b[38;5;241;43m*\u001b[39;49m\u001b[38;5;241;43m*\u001b[39;49m\u001b[43mkwargs\u001b[49m\u001b[43m)\u001b[49m\n",
      "File \u001b[1;32m~\\AppData\\Roaming\\Python\\Python311\\site-packages\\sklearn\\pipeline.py:420\u001b[0m, in \u001b[0;36mPipeline.fit\u001b[1;34m(self, X, y, **fit_params)\u001b[0m\n\u001b[0;32m    418\u001b[0m     \u001b[38;5;28;01mif\u001b[39;00m \u001b[38;5;28mself\u001b[39m\u001b[38;5;241m.\u001b[39m_final_estimator \u001b[38;5;241m!=\u001b[39m \u001b[38;5;124m\"\u001b[39m\u001b[38;5;124mpassthrough\u001b[39m\u001b[38;5;124m\"\u001b[39m:\n\u001b[0;32m    419\u001b[0m         fit_params_last_step \u001b[38;5;241m=\u001b[39m fit_params_steps[\u001b[38;5;28mself\u001b[39m\u001b[38;5;241m.\u001b[39msteps[\u001b[38;5;241m-\u001b[39m\u001b[38;5;241m1\u001b[39m][\u001b[38;5;241m0\u001b[39m]]\n\u001b[1;32m--> 420\u001b[0m         \u001b[38;5;28;43mself\u001b[39;49m\u001b[38;5;241;43m.\u001b[39;49m\u001b[43m_final_estimator\u001b[49m\u001b[38;5;241;43m.\u001b[39;49m\u001b[43mfit\u001b[49m\u001b[43m(\u001b[49m\u001b[43mXt\u001b[49m\u001b[43m,\u001b[49m\u001b[43m \u001b[49m\u001b[43my\u001b[49m\u001b[43m,\u001b[49m\u001b[43m \u001b[49m\u001b[38;5;241;43m*\u001b[39;49m\u001b[38;5;241;43m*\u001b[39;49m\u001b[43mfit_params_last_step\u001b[49m\u001b[43m)\u001b[49m\n\u001b[0;32m    422\u001b[0m \u001b[38;5;28;01mreturn\u001b[39;00m \u001b[38;5;28mself\u001b[39m\n",
      "Cell \u001b[1;32mIn[14], line 417\u001b[0m, in \u001b[0;36mFullyConnectedNetwork.fit\u001b[1;34m(self, X, y)\u001b[0m\n\u001b[0;32m    412\u001b[0m     Z, A \u001b[38;5;241m=\u001b[39m \u001b[38;5;28mself\u001b[39m\u001b[38;5;241m.\u001b[39mforward(X_train[batch_idx])\n\u001b[0;32m    413\u001b[0m     \u001b[38;5;66;03m# Step 8: Run back propagation\u001b[39;00m\n\u001b[0;32m    414\u001b[0m     \u001b[38;5;66;03m# - Use X_train, batch_idx, A, and y_train_enc\u001b[39;00m\n\u001b[0;32m    415\u001b[0m     \u001b[38;5;66;03m# WRITE YOUR CODE HERE\u001b[39;00m\n\u001b[1;32m--> 417\u001b[0m     \u001b[38;5;28;43mself\u001b[39;49m\u001b[38;5;241;43m.\u001b[39;49m\u001b[43mback_propagation\u001b[49m\u001b[43m(\u001b[49m\u001b[43mX_train\u001b[49m\u001b[43m,\u001b[49m\u001b[43m \u001b[49m\u001b[43mbatch_idx\u001b[49m\u001b[43m,\u001b[49m\u001b[43m \u001b[49m\u001b[43mA\u001b[49m\u001b[43m,\u001b[49m\u001b[43m \u001b[49m\u001b[43my_train_enc\u001b[49m\u001b[43m)\u001b[49m\n\u001b[0;32m    420\u001b[0m     \u001b[38;5;66;03m#\u001b[39;00m\n\u001b[0;32m    421\u001b[0m \n\u001b[0;32m    422\u001b[0m \u001b[38;5;66;03m# call evaluate function after inner loop (whole batch cycles) is complete\u001b[39;00m\n\u001b[0;32m    423\u001b[0m \u001b[38;5;66;03m# WRITE YOUR CODE HERE\u001b[39;00m\n\u001b[0;32m    425\u001b[0m \u001b[38;5;28mself\u001b[39m\u001b[38;5;241m.\u001b[39mevaluate(i, X_train, X_valid, y_train, y_valid)\n",
      "Cell \u001b[1;32mIn[14], line 309\u001b[0m, in \u001b[0;36mFullyConnectedNetwork.back_propagation\u001b[1;34m(self, X_train, batch_idx, A, y_truth)\u001b[0m\n\u001b[0;32m    298\u001b[0m grad_b_h \u001b[38;5;241m=\u001b[39m np\u001b[38;5;241m.\u001b[39msum(delta_h, axis\u001b[38;5;241m=\u001b[39m\u001b[38;5;241m0\u001b[39m)\n\u001b[0;32m    300\u001b[0m \u001b[38;5;66;03m#############################################\u001b[39;00m\n\u001b[0;32m    301\u001b[0m \u001b[38;5;66;03m# CHANGE THIS PART\u001b[39;00m\n\u001b[0;32m    302\u001b[0m \n\u001b[1;32m   (...)\u001b[0m\n\u001b[0;32m    306\u001b[0m \u001b[38;5;66;03m# - You should also apply l1 and l2 normalization to the weight (not to the bias).\u001b[39;00m\n\u001b[0;32m    307\u001b[0m \u001b[38;5;66;03m# - You should use the learning rate (self.eta) when changing the value.\u001b[39;00m\n\u001b[1;32m--> 309\u001b[0m delta_w_h \u001b[38;5;241m=\u001b[39m grad_w_h \u001b[38;5;241m+\u001b[39m \u001b[38;5;28mself\u001b[39m\u001b[38;5;241m.\u001b[39ml2 \u001b[38;5;241m*\u001b[39m \u001b[38;5;28mself\u001b[39m\u001b[38;5;241m.\u001b[39mW[\u001b[38;5;241m0\u001b[39m] \u001b[38;5;241m+\u001b[39m \u001b[38;5;28mself\u001b[39m\u001b[38;5;241m.\u001b[39ml1 \u001b[38;5;241m*\u001b[39m \u001b[43mnp\u001b[49m\u001b[38;5;241;43m.\u001b[39;49m\u001b[43msign\u001b[49m\u001b[43m(\u001b[49m\u001b[38;5;28;43mself\u001b[39;49m\u001b[38;5;241;43m.\u001b[39;49m\u001b[43mW\u001b[49m\u001b[43m[\u001b[49m\u001b[38;5;241;43m0\u001b[39;49m\u001b[43m]\u001b[49m\u001b[43m)\u001b[49m\n\u001b[0;32m    310\u001b[0m delta_b_h \u001b[38;5;241m=\u001b[39m grad_b_h\n\u001b[0;32m    312\u001b[0m \u001b[38;5;28mself\u001b[39m\u001b[38;5;241m.\u001b[39mW[\u001b[38;5;241m0\u001b[39m] \u001b[38;5;241m=\u001b[39m \u001b[38;5;28mself\u001b[39m\u001b[38;5;241m.\u001b[39mW[\u001b[38;5;241m0\u001b[39m] \u001b[38;5;241m-\u001b[39m \u001b[38;5;28mself\u001b[39m\u001b[38;5;241m.\u001b[39meta \u001b[38;5;241m*\u001b[39m delta_w_h\n",
      "\u001b[1;31mKeyboardInterrupt\u001b[0m: "
     ]
    }
   ],
   "source": [
    "parameters = {\"classifier__l1\" : np.arange(0,0.01 + 0.002, 0.002),\n",
    "              \"classifier__l2\" : np.arange(0,0.01 + 0.002, 0.002),\n",
    "              \"classifier__n_hidden\" :  np.arange(20, 100, 10),\n",
    "              \"classifier__eta\" : np.arange(0.0001, 0.001, 0.0001),\n",
    "              \"classifier__init_technique\" : [\"normal\", \"xavier\", \"he\"]}\n",
    "\n",
    "\n",
    "\n",
    "grid = RandomizedSearchCV(pipeline, parameters, n_iter= 10 ,cv=3, random_state=RANDOM_STATE)\n",
    "grid.fit(X_train, y_train)\n",
    "\n",
    "\n",
    "best_classifier = grid.best_estimator_ \n",
    "best_score = best_classifier.score(X_test, y_test)"
   ]
  },
  {
   "cell_type": "code",
   "execution_count": null,
   "metadata": {
    "id": "Zisqj2Qk6318"
   },
   "outputs": [],
   "source": [
    "# PRINT YOUR SCORES HERE\n",
    "print(best_classifier, best_score)"
   ]
  }
 ],
 "metadata": {
  "colab": {
   "provenance": []
  },
  "kernelspec": {
   "display_name": "Python 3",
   "name": "python3"
  },
  "language_info": {
   "codemirror_mode": {
    "name": "ipython",
    "version": 3
   },
   "file_extension": ".py",
   "mimetype": "text/x-python",
   "name": "python",
   "nbconvert_exporter": "python",
   "pygments_lexer": "ipython3",
   "version": "3.11.5"
  }
 },
 "nbformat": 4,
 "nbformat_minor": 0
}
